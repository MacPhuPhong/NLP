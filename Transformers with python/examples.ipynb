{
 "cells": [
  {
   "cell_type": "code",
   "execution_count": 12,
   "id": "e5a132fa",
   "metadata": {},
   "outputs": [
    {
     "name": "stdout",
     "output_type": "stream",
     "text": [
      "✅ Python executable: /home/pphong/venv/NLP_venv/bin/python\n",
      "✅ Torch version: 2.9.0+cu128\n",
      "✅ SentencePiece OK: 0.2.1\n"
     ]
    }
   ],
   "source": [
    "import sys, torch, sentencepiece\n",
    "print(\"✅ Python executable:\", sys.executable)\n",
    "print(\"✅ Torch version:\", torch.__version__)\n",
    "print(\"✅ SentencePiece OK:\", sentencepiece.__version__)\n"
   ]
  },
  {
   "cell_type": "code",
   "execution_count": 13,
   "id": "ea47437c",
   "metadata": {},
   "outputs": [],
   "source": [
    "from transformers import pipeline \n",
    "import torch"
   ]
  },
  {
   "cell_type": "markdown",
   "id": "174f3689",
   "metadata": {},
   "source": [
    "# summary (dịch văn bản)"
   ]
  },
  {
   "cell_type": "code",
   "execution_count": 14,
   "id": "42d3ae75",
   "metadata": {},
   "outputs": [
    {
     "name": "stderr",
     "output_type": "stream",
     "text": [
      "Device set to use cpu\n"
     ]
    }
   ],
   "source": [
    "summarizer = pipeline(\n",
    "    \"summarization\",\n",
    "    model=\"t5-small\",\n",
    "    tokenizer=\"t5-small\",\n",
    "    truncation=True\n",
    ")"
   ]
  },
  {
   "cell_type": "code",
   "execution_count": 15,
   "id": "a3744e33",
   "metadata": {},
   "outputs": [
    {
     "name": "stderr",
     "output_type": "stream",
     "text": [
      "Your max_length is set to 150, but your input_length is only 65. Since this is a summarization task, where outputs shorter than the input are typically wanted, you might consider decreasing max_length manually, e.g. summarizer('...', max_length=32)\n",
      "Both `max_new_tokens` (=256) and `max_length`(=150) seem to have been set. `max_new_tokens` will take precedence. Please refer to the documentation for more information. (https://huggingface.co/docs/transformers/main/en/main_classes/text_generation)\n"
     ]
    },
    {
     "name": "stdout",
     "output_type": "stream",
     "text": [
      "machine learning models are tested and developed using various datasets . the process involves training the model on a subset of data, validating its performance on another subset and finally testing it on unseen data to evaluate its generalization capabilities .\n"
     ]
    }
   ],
   "source": [
    "text = \"machine learning models are tested and developed using various datasets to ensure their accuracy and reliability in real-world applications. The process involves training the model on a subset of data, validating its performance on another subset, and finally testing it on unseen data to evaluate its generalization capabilities.\"\n",
    "summary = summarizer(text,\n",
    "                     max_length=150,\n",
    "                     min_length=40,\n",
    "                     do_sample=False)\n",
    "print(summary[0]['summary_text'])"
   ]
  },
  {
   "cell_type": "markdown",
   "id": "f580dd7b",
   "metadata": {},
   "source": [
    "# translate (dịch văn bản)"
   ]
  },
  {
   "cell_type": "code",
   "execution_count": 16,
   "id": "919c58cd",
   "metadata": {},
   "outputs": [
    {
     "name": "stderr",
     "output_type": "stream",
     "text": [
      "Device set to use cpu\n"
     ]
    }
   ],
   "source": [
    "\n",
    "translate = pipeline(\n",
    "    \"translation\",  # << chỉ dùng \"translation\" thôi!\n",
    "    model=\"Helsinki-NLP/opus-mt-en-vi\",\n",
    "    tokenizer=\"Helsinki-NLP/opus-mt-en-vi\"\n",
    ")\n"
   ]
  },
  {
   "cell_type": "code",
   "execution_count": 17,
   "id": "70aebaad",
   "metadata": {},
   "outputs": [
    {
     "name": "stdout",
     "output_type": "stream",
     "text": [
      "Thời tiết hôm nay thật đẹp và đầy nắng.\n"
     ]
    }
   ],
   "source": [
    "result = translate(\"The weather today is beautiful and sunny.\")\n",
    "print(result[0]['translation_text'])"
   ]
  },
  {
   "cell_type": "code",
   "execution_count": 18,
   "id": "3e0a12c3",
   "metadata": {},
   "outputs": [
    {
     "name": "stdout",
     "output_type": "stream",
     "text": [
      "Các mô hình máy học được thử nghiệm và phát triển bằng cách sử dụng các bộ dữ liệu khác nhau để đảm bảo tính chính xác và tính mở rộng của chúng trong các ứng dụng thực tế trên thế giới.\n"
     ]
    }
   ],
   "source": [
    "text = \"Machine learning models are tested and developed using various datasets to ensure their accuracy and reliability in real-world applications.\"\n",
    "\n",
    "translated_text = translate(text)[0]['translation_text']\n",
    "print(translated_text)\n"
   ]
  },
  {
   "cell_type": "markdown",
   "id": "2ec147a1",
   "metadata": {},
   "source": [
    "# Q & A (vấn đáp)"
   ]
  },
  {
   "cell_type": "code",
   "execution_count": 19,
   "id": "26c9b9f0",
   "metadata": {},
   "outputs": [
    {
     "name": "stderr",
     "output_type": "stream",
     "text": [
      "Device set to use cpu\n"
     ]
    }
   ],
   "source": [
    "QA = pipeline(\"question-answering\",\n",
    "              model=\"distilbert-base-cased-distilled-squad\",\n",
    "              tokenizer=\"distilbert-base-cased-distilled-squad\"\n",
    "              )"
   ]
  },
  {
   "cell_type": "code",
   "execution_count": null,
   "id": "f03eda79",
   "metadata": {},
   "outputs": [],
   "source": []
  }
 ],
 "metadata": {
  "kernelspec": {
   "display_name": "NLP_venv",
   "language": "python",
   "name": "python3"
  },
  "language_info": {
   "codemirror_mode": {
    "name": "ipython",
    "version": 3
   },
   "file_extension": ".py",
   "mimetype": "text/x-python",
   "name": "python",
   "nbconvert_exporter": "python",
   "pygments_lexer": "ipython3",
   "version": "3.10.12"
  }
 },
 "nbformat": 4,
 "nbformat_minor": 5
}
