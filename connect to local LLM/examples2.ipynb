{
 "cells": [
  {
   "cell_type": "markdown",
   "id": "55dfcc35",
   "metadata": {},
   "source": [
    "# 🧪 Sinh dữ liệu tổng hợp (Synthetic Data Generation) bằng Large Language Model (LLM)\n",
    "\n",
    "Mục tiêu:  \n",
    "Tạo thêm dữ liệu cho bộ dữ liệu rượu vang (wine dataset) bằng cách dùng một mô hình ngôn ngữ lớn (LLM) chạy **local** qua API tương thích OpenAI.\n",
    "\n",
    "Chúng ta sẽ:\n",
    "1. Kết nối đến mô hình cục bộ (Llamafile hoặc Ollama).\n",
    "2. Gửi prompt yêu cầu mô hình sinh thêm dữ liệu CSV.\n",
    "3. Xử lý đầu ra, loại bỏ phần không hợp lệ.\n",
    "4. Tinh chỉnh prompt để mô hình xuất đúng định dạng CSV.\n"
   ]
  },
  {
   "cell_type": "code",
   "execution_count": null,
   "id": "f4fb1fd1",
   "metadata": {},
   "outputs": [],
   "source": [
    "from openai import OpenAI\n",
    "\n",
    "# cấu hình llamafile\n",
    "LLAMAfile = {\n",
    "    \"host\":\"http://localhost\",\n",
    "    \"port\":8080,\n",
    "    \"api_base\":\"http://localhost:8080/v1\",\n",
    "    \"api_key\":\"sk-no-key-required\"\n",
    "}\n",
    "\n",
    "#  tạo client kết nối API local\n",
    "client = OpenAI(\n",
    "    base_url=LLAMAfile[\"api_base\"],\n",
    "    api_key=LLAMAfile[\"api_ket\"]\n",
    ")"
   ]
  },
  {
   "cell_type": "markdown",
   "id": "0583a589",
   "metadata": {},
   "source": [
    "# ví dụ dữ liệu gốc"
   ]
  },
  {
   "cell_type": "code",
   "execution_count": null,
   "id": "a5d8be74",
   "metadata": {},
   "outputs": [],
   "source": [
    "import pandas as pd\n",
    "\n",
    "# dữ liệu gốc mẫu\n",
    "data = [\n",
    "    \"naem\":[]\"\n",
    "]"
   ]
  }
 ],
 "metadata": {
  "kernelspec": {
   "display_name": "NLP_venv",
   "language": "python",
   "name": "python3"
  },
  "language_info": {
   "name": "python",
   "version": "3.10.12"
  }
 },
 "nbformat": 4,
 "nbformat_minor": 5
}
