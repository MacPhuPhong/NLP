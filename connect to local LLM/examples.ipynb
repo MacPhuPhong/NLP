{
 "cells": [
  {
   "cell_type": "markdown",
   "id": "eee23dc2",
   "metadata": {},
   "source": [
    "# connect to an LLM locally with Llamafile"
   ]
  },
  {
   "cell_type": "code",
   "execution_count": null,
   "id": "a3511ffd",
   "metadata": {},
   "outputs": [],
   "source": [
    "LLAMAfile = {                              # Tạo một dictionary chứa thông tin cấu hình cho server LLAMAfile\n",
    "    \"host\": \"http://localhost\",            # Địa chỉ host của server (localhost nghĩa là chạy trên máy này)\n",
    "    \"port\": 8080,                          # Cổng mà server LLAMAfile đang lắng nghe (ở đây là 8080)\n",
    "    \"api_base\": \"http://localhost:8080/v1\",# URL gốc để truy cập API LLAMAfile, bao gồm cả version v1\n",
    "    \"api_key\": \"sk-no-key-required\"        # Khóa API (ở đây là giả định vì LLAMAfile không yêu cầu key thật)\n",
    "}"
   ]
  },
  {
   "cell_type": "markdown",
   "id": "250d3125",
   "metadata": {},
   "source": [
    "# connect to an LLM using Ollama"
   ]
  },
  {
   "cell_type": "code",
   "execution_count": null,
   "id": "882216f7",
   "metadata": {},
   "outputs": [],
   "source": [
    "OLLAMA = {                                 # Tạo dictionary cấu hình cho server Ollama\n",
    "    \"host\": \"http://localhost\",            # Cũng chạy trên localhost, tức là máy tính của bạn\n",
    "    \"port\": 11434,                         # Cổng mà Ollama server đang dùng (mặc định của Ollama là 11434)\n",
    "    \"api_base\": \"http://localhost:11434/v1\",# Đường dẫn API gốc của Ollama, cũng có version v1\n",
    "    \"api_key\": \"sk-no-key-required\"        # Khóa API giả, vì Ollama cũng không yêu cầu key\n",
    "}"
   ]
  },
  {
   "cell_type": "markdown",
   "id": "d80efbb3",
   "metadata": {},
   "source": [
    "# Tạo client gọi API"
   ]
  },
  {
   "cell_type": "code",
   "execution_count": null,
   "id": "73202432",
   "metadata": {},
   "outputs": [],
   "source": [
    "from openai import OpenAI\n",
    "\n",
    "# kết nối đén mô hình Llamafile local\n",
    "client = OpenAI(\n",
    "    base_url=\"http://localhost:8080/v1\",\n",
    "    api_key=\"sk-no-key-required\"\n",
    ")"
   ]
  },
  {
   "cell_type": "code",
   "execution_count": null,
   "id": "3302ed7d",
   "metadata": {},
   "outputs": [],
   "source": [
    "# kết nối đến mô hình ollama\n",
    "client2 = OpenAI(\n",
    "    base_url=\"http://localhost:11434/v1\",\n",
    "    api_key=\"sk-no-key-required\"\n",
    ")"
   ]
  },
  {
   "cell_type": "markdown",
   "id": "41044d61",
   "metadata": {},
   "source": [
    "# tạo prompt hệ thống (system prompt)"
   ]
  },
  {
   "cell_type": "code",
   "execution_count": null,
   "id": "8f6e6056",
   "metadata": {},
   "outputs": [
    {
     "ename": "SyntaxError",
     "evalue": "invalid syntax. Perhaps you forgot a comma? (161886046.py, line 2)",
     "output_type": "error",
     "traceback": [
      "\u001b[0;36m  Cell \u001b[0;32mIn[2], line 2\u001b[0;36m\u001b[0m\n\u001b[0;31m    {\"role\":\"system\", \"content\":\"you are a specialist in generation sysnthetic data based on input\" }\u001b[0m\n\u001b[0m    ^\u001b[0m\n\u001b[0;31mSyntaxError\u001b[0m\u001b[0;31m:\u001b[0m invalid syntax. Perhaps you forgot a comma?\n"
     ]
    }
   ],
   "source": [
    "messages = [\n",
    "    {\"role\":\"system\", \"content\":\"you are a specialist in generation sysnthetic data based on input\" },\n",
    "    {\"role\": \"user\", \"content\": \"Generate 10 snthetix records of a wine dataset with fields: naem, region, variety, rating, notes.\"}\n",
    "]"
   ]
  },
  {
   "cell_type": "markdown",
   "id": "c372956d",
   "metadata": {},
   "source": [
    "# gọi mô hình để sinh dữ liệu"
   ]
  },
  {
   "cell_type": "code",
   "execution_count": null,
   "id": "10065163",
   "metadata": {},
   "outputs": [],
   "source": [
    "response = client.chat.completions.create(\n",
    "    model=\"llama-cpp\",\n",
    "    messages=messages\n",
    ")\n",
    "\n",
    "print(response.choices[0].message.content)"
   ]
  }
 ],
 "metadata": {
  "kernelspec": {
   "display_name": "NLP_venv",
   "language": "python",
   "name": "python3"
  },
  "language_info": {
   "codemirror_mode": {
    "name": "ipython",
    "version": 3
   },
   "file_extension": ".py",
   "mimetype": "text/x-python",
   "name": "python",
   "nbconvert_exporter": "python",
   "pygments_lexer": "ipython3",
   "version": "3.10.12"
  }
 },
 "nbformat": 4,
 "nbformat_minor": 5
}
